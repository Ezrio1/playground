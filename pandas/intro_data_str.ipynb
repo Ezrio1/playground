{
 "cells": [
  {
   "cell_type": "markdown",
   "metadata": {},
   "source": [
    "# İntro to data structures"
   ]
  },
  {
   "cell_type": "code",
   "execution_count": 3,
   "metadata": {},
   "outputs": [],
   "source": [
    "import numpy as np\n",
    "import pandas as pd"
   ]
  },
  {
   "cell_type": "markdown",
   "metadata": {},
   "source": [
    "## Series"
   ]
  },
  {
   "cell_type": "code",
   "execution_count": 5,
   "metadata": {},
   "outputs": [
    {
     "name": "stdout",
     "output_type": "stream",
     "text": [
      "a    0.654457\n",
      "b    1.800125\n",
      "c   -0.329065\n",
      "d    1.619839\n",
      "e   -0.734587\n",
      "dtype: float64\n",
      "Index(['a', 'b', 'c', 'd', 'e'], dtype='object')\n"
     ]
    }
   ],
   "source": [
    "# From ndarray\n",
    "s = pd.Series(np.random.randn(5), index=[\"a\",\"b\",\"c\",\"d\",\"e\"])\n",
    "print(s)\n",
    "print(s.index)"
   ]
  },
  {
   "cell_type": "code",
   "execution_count": null,
   "metadata": {},
   "outputs": [
    {
     "name": "stdout",
     "output_type": "stream",
     "text": [
      "b    1\n",
      "a    0\n",
      "c    5\n",
      "dtype: int64\n",
      "a    0.0\n",
      "d    NaN\n",
      "c    5.0\n",
      "b    1.0\n",
      "dtype: float64\n"
     ]
    }
   ],
   "source": [
    "# From dictionary\n",
    "d = {\"b\" : 1, \"a\" : 0, \"c\" : 5}\n",
    "s = pd.Series(d)\n",
    "print(s)\n",
    "#If an index is passed, the values in data corresponding \n",
    "#to the labels in the index will be pulled out\n",
    "s = pd.Series(d, index=[\"a\",\"d\",\"c\",\"b\"])\n",
    "print(s) #NaN(not o number is the standart missing data marker in pandas)"
   ]
  },
  {
   "cell_type": "code",
   "execution_count": 10,
   "metadata": {},
   "outputs": [
    {
     "name": "stdout",
     "output_type": "stream",
     "text": [
      "a    5.0\n",
      "b    5.0\n",
      "c    5.0\n",
      "d    5.0\n",
      "dtype: float64\n"
     ]
    }
   ],
   "source": [
    "# From scalar value\n",
    "s = pd.Series(5.0, index=[\"a\",\"b\",\"c\",\"d\"])\n",
    "print(s)"
   ]
  },
  {
   "cell_type": "markdown",
   "metadata": {},
   "source": [
    "## Series is ndarray-like"
   ]
  },
  {
   "cell_type": "code",
   "execution_count": 25,
   "metadata": {},
   "outputs": [
    {
     "name": "stdout",
     "output_type": "stream",
     "text": [
      "a    0\n",
      "b    1\n",
      "c    2\n",
      "d    3\n",
      "dtype: int64\n",
      "a    0\n",
      "b    1\n",
      "c    2\n",
      "dtype: int64\n",
      "c    2\n",
      "d    3\n",
      "dtype: int64\n",
      "d    3\n",
      "b    1\n",
      "c    2\n",
      "dtype: int64\n"
     ]
    }
   ],
   "source": [
    "s = pd.Series(np.arange(4), index=[\"a\",\"b\",\"c\",\"d\"])\n",
    "print(s)\n",
    "#print(s[2]) this doesnt work\n",
    "print(s.iloc[:3])\n",
    "print(s[s > s.median()])\n",
    "print(s.iloc[[3,1,2]])"
   ]
  },
  {
   "cell_type": "code",
   "execution_count": 26,
   "metadata": {},
   "outputs": [
    {
     "name": "stdout",
     "output_type": "stream",
     "text": [
      "int64\n",
      "[0 1 2 3]\n",
      "<class 'numpy.ndarray'>\n"
     ]
    }
   ],
   "source": [
    "# Like a numpy array, a pandas series has a single data type\n",
    "print(s.dtype)\n",
    "# if u need actual ndarray u can simply:\n",
    "c = s.to_numpy()\n",
    "print(c)\n",
    "print(type(c))"
   ]
  },
  {
   "cell_type": "markdown",
   "metadata": {},
   "source": [
    "## Series is dict-like"
   ]
  },
  {
   "cell_type": "code",
   "execution_count": 35,
   "metadata": {},
   "outputs": [
    {
     "name": "stdout",
     "output_type": "stream",
     "text": [
      "0\n",
      "a    0\n",
      "b    1\n",
      "c    2\n",
      "d   -9\n",
      "dtype: int64\n",
      "False\n",
      "True\n",
      "None\n",
      "nan\n",
      "0\n"
     ]
    }
   ],
   "source": [
    "s = pd.Series(np.arange(4), index=[\"a\",\"b\",\"c\",\"d\"])\n",
    "print(s[\"a\"])\n",
    "s[\"d\"] = -9\n",
    "print(s)\n",
    "print(\"e\" in s)\n",
    "print(\"c\" in s)\n",
    "#s[\"x\"] this will cause an exception\n",
    "print(s.get(\"x\")) #this returns nothing\n",
    "print(s.get(\"x\",np.nan)) # this returns nan\n",
    "# Labels can also be accessed by attribute\n",
    "print(s.a)"
   ]
  },
  {
   "cell_type": "markdown",
   "metadata": {},
   "source": [
    "## Vectorized operations and label alignment with Series"
   ]
  },
  {
   "cell_type": "code",
   "execution_count": 38,
   "metadata": {},
   "outputs": [
    {
     "name": "stdout",
     "output_type": "stream",
     "text": [
      "a    0\n",
      "b    2\n",
      "c    4\n",
      "d    6\n",
      "dtype: int64\n",
      "a     0\n",
      "b    20\n",
      "c    40\n",
      "d    60\n",
      "dtype: int64\n",
      "a     1.000000\n",
      "b     2.718282\n",
      "c     7.389056\n",
      "d    20.085537\n",
      "dtype: float64\n"
     ]
    }
   ],
   "source": [
    "s = pd.Series(np.arange(4), index=[\"a\",\"b\",\"c\",\"d\"])\n",
    "print(s+s)\n",
    "print(s*20)\n",
    "print(np.exp(s)) # Series can also be passed into most numpy methods\n",
    "# expecting an ndarray"
   ]
  },
  {
   "cell_type": "code",
   "execution_count": 51,
   "metadata": {},
   "outputs": [
    {
     "name": "stdout",
     "output_type": "stream",
     "text": [
      "a    0\n",
      "b    1\n",
      "c    2\n",
      "d    3\n",
      "dtype: int64\n",
      "a    12\n",
      "b    13\n",
      "c    14\n",
      "f    15\n",
      "dtype: int64\n",
      "a     0.0\n",
      "b    13.0\n",
      "c    28.0\n",
      "d     NaN\n",
      "f     NaN\n",
      "dtype: float64\n",
      "a    12.0\n",
      "b    14.0\n",
      "c    16.0\n",
      "d     NaN\n",
      "f     NaN\n",
      "dtype: float64\n",
      "a     0.0\n",
      "b    13.0\n",
      "c    28.0\n",
      "dtype: float64\n"
     ]
    }
   ],
   "source": [
    "s = pd.Series(np.arange(4), index=[\"a\",\"b\",\"c\",\"d\"])\n",
    "d = pd.Series(np.arange(12,16), index=[\"a\",\"b\",\"c\",\"f\"])\n",
    "print(s)\n",
    "print(d)\n",
    "print(s*d) # Since the labels f and d are not shared, the values\n",
    "# of for f and d were set to NaN in the result\n",
    "print(s+d)\n",
    "# if u dont want the Nan values, u can use dropna function\n",
    "x = s*d\n",
    "print(x.dropna())\n"
   ]
  },
  {
   "cell_type": "markdown",
   "metadata": {},
   "source": [
    "## Name attribute"
   ]
  },
  {
   "cell_type": "code",
   "execution_count": 55,
   "metadata": {},
   "outputs": [
    {
     "name": "stdout",
     "output_type": "stream",
     "text": [
      "0    0\n",
      "1    1\n",
      "2    2\n",
      "3    3\n",
      "4    4\n",
      "Name: something, dtype: int64\n",
      "something\n",
      "changed\n"
     ]
    }
   ],
   "source": [
    "s = pd.Series(np.arange(5), name=\"something\")\n",
    "print(s)\n",
    "print(s.name)\n",
    "s = s.rename(\"changed\") # u can assign to s2 (diffrent object)\n",
    "print(s.name)"
   ]
  },
  {
   "cell_type": "markdown",
   "metadata": {},
   "source": [
    "# Data Frame"
   ]
  },
  {
   "cell_type": "code",
   "execution_count": 67,
   "metadata": {},
   "outputs": [
    {
     "name": "stdout",
     "output_type": "stream",
     "text": [
      "   one  two\n",
      "a  1.0  1.0\n",
      "b  2.0  2.0\n",
      "c  3.0  3.0\n",
      "d  NaN  4.0\n",
      "   one  two\n",
      "c  3.0  3.0\n",
      "d  NaN  4.0\n",
      "a  1.0  1.0\n",
      "x  NaN  NaN\n",
      "   two three  one four\n",
      "d  4.0   NaN  NaN  NaN\n",
      "a  1.0   NaN  1.0  NaN\n",
      "b  2.0   NaN  2.0  NaN\n",
      "c  3.0   NaN  3.0  NaN\n",
      "x  NaN   NaN  NaN  NaN\n",
      "-----------------------\n",
      "Index(['d', 'a', 'b', 'c', 'x'], dtype='object')\n",
      "Index(['two', 'three', 'one', 'four'], dtype='object')\n"
     ]
    }
   ],
   "source": [
    "#From dict of Series or dicts\n",
    "d = {\n",
    "    \"one\":pd.Series([1.0,2.0,3.0],index=[\"a\",\"b\",\"c\"]),\n",
    "    \"two\":pd.Series([1.0,2.0,3.0,4.0],index=[\"a\",\"b\",\"c\",\"d\"]),\n",
    "}\n",
    "df = pd.DataFrame(d)\n",
    "print(df)\n",
    "df2 = pd.DataFrame(d, index=[\"c\",\"d\",\"a\",\"x\"])\n",
    "print(df2)\n",
    "df3 = pd.DataFrame(d, index=[\"d\",\"a\",\"b\",\"c\",\"x\"], columns=[\"two\",\"three\",\"one\",\"four\"])\n",
    "print(df3)\n",
    "print(\"-----------------------\")\n",
    "print(df3.index)\n",
    "print(df3.columns)"
   ]
  },
  {
   "cell_type": "code",
   "execution_count": 73,
   "metadata": {},
   "outputs": [
    {
     "name": "stdout",
     "output_type": "stream",
     "text": [
      "   one  two\n",
      "0  1.0  4.0\n",
      "1  2.0  3.0\n",
      "2  3.0  2.0\n",
      "3  4.0  1.0\n",
      "   one  two\n",
      "a  1.0  4.0\n",
      "b  2.0  3.0\n",
      "c  3.0  2.0\n",
      "d  4.0  1.0\n"
     ]
    }
   ],
   "source": [
    "#From dict of ndarrays / lists\n",
    "d = {\"one\": [1.0, 2.0, 3.0, 4.0], \"two\": [4.0, 3.0, 2.0, 1.0]}\n",
    "d2 = pd.DataFrame(d) # If index is not passed then indexes will be range(n)\n",
    "# where the n is array length example:\n",
    "print(d2) \n",
    "d3 = pd.DataFrame(d, index=[\"a\",\"b\",\"c\",\"d\"])\n",
    "print(d3)"
   ]
  },
  {
   "cell_type": "code",
   "execution_count": 74,
   "metadata": {},
   "outputs": [],
   "source": [
    "#From structured or record array"
   ]
  },
  {
   "cell_type": "markdown",
   "metadata": {},
   "source": [
    "Since i dont know structured numpy arrays a little study will be good\n",
    "# Numpy's Structured Array\n",
    "source = https://www.geeksforgeeks.org/numpy-structured-array/"
   ]
  },
  {
   "cell_type": "code",
   "execution_count": 91,
   "metadata": {},
   "outputs": [
    {
     "name": "stdout",
     "output_type": "stream",
     "text": [
      "[('Yavuz', 21, 67.4) ('Veli', 56, 70. )]\n",
      "[('name', '<U10'), ('age', '<i4'), ('weight', '<f8')]\n",
      "Max age =  56\n",
      "Min age =  21\n",
      "[('Yavuz', 21, 67.4) ('Veli', 56, 70. ) ('Mehmet', 34, 87. )]\n",
      "[[('Yavuz', 21, 67.4)]\n",
      " [('Veli', 56, 70. )]\n",
      " [('Mehmet', 34, 87. )]]\n"
     ]
    }
   ],
   "source": [
    "dt = np.dtype([('name', (np.str_),10), ('age', np.int32), ('weight', np.float64)])\n",
    "a = np.array([('Yavuz', 21, 67.4), ('Veli', 56, 70.0)], dtype=dt)\n",
    "print(a)\n",
    "print(a.dtype)\n",
    "\n",
    "#min and max\n",
    "max_age = np.max(a['age'])\n",
    "min_age = np.min(a['age'])\n",
    "\n",
    "print(\"Max age = \",max_age) \n",
    "print(\"Min age = \",min_age)\n",
    "\n",
    "#concatenating structured array\n",
    "b = np.array([('Mehmet', 34, 87)], dtype=dt)\n",
    "c = np.concatenate((a,b))\n",
    "print(c)\n",
    "\n",
    "#Reshaping a structured array\n",
    "reshaped_c = np.reshape(c, (3,1))\n",
    "print(reshaped_c)"
   ]
  },
  {
   "cell_type": "code",
   "execution_count": 26,
   "metadata": {},
   "outputs": [
    {
     "name": "stdout",
     "output_type": "stream",
     "text": [
      "   a    b         c\n",
      "0  1  2.0  b'Hello'\n",
      "1  2  3.0  b'World'\n",
      "        a    b         c\n",
      "first   1  2.0  b'Hello'\n",
      "second  2  3.0  b'World'\n",
      "     b         c  a\n",
      "0  2.0  b'Hello'  1\n",
      "1  3.0  b'World'  2\n"
     ]
    }
   ],
   "source": [
    "#From structured or record array\n",
    "import numpy as np\n",
    "import pandas as pd\n",
    "data = np.zeros((2,), dtype=[(\"a\", \"i4\"), (\"b\", \"f4\"), (\"c\", \"S10\")])\n",
    "data[:] = [(1,2.0,\"Hello\"), (2, 3.0, \"World\")]\n",
    "print(pd.DataFrame(data))\n",
    "print(pd.DataFrame(data, index=[\"first\",\"second\"]))\n",
    "print(pd.DataFrame(data, columns=[\"b\",\"c\",\"a\"]))"
   ]
  },
  {
   "cell_type": "code",
   "execution_count": 29,
   "metadata": {},
   "outputs": [
    {
     "name": "stdout",
     "output_type": "stream",
     "text": [
      "   a   b     c\n",
      "0  1   2   NaN\n",
      "1  5  10  20.0\n",
      "        a   b     c\n",
      "first   1   2   NaN\n",
      "second  5  10  20.0\n",
      "      c  a\n",
      "0   NaN  1\n",
      "1  20.0  5\n"
     ]
    }
   ],
   "source": [
    "#From a list of dicts\n",
    "data2 = [{\"a\": 1, \"b\": 2}, {\"a\": 5, \"b\": 10, \"c\": 20}]\n",
    "print(pd.DataFrame(data2))\n",
    "print(pd.DataFrame(data2, index=[\"first\",\"second\"]))\n",
    "print(pd.DataFrame(data2, columns=[\"c\",\"a\"]))"
   ]
  },
  {
   "cell_type": "code",
   "execution_count": 30,
   "metadata": {},
   "outputs": [
    {
     "data": {
      "text/html": [
       "<div>\n",
       "<style scoped>\n",
       "    .dataframe tbody tr th:only-of-type {\n",
       "        vertical-align: middle;\n",
       "    }\n",
       "\n",
       "    .dataframe tbody tr th {\n",
       "        vertical-align: top;\n",
       "    }\n",
       "\n",
       "    .dataframe thead tr th {\n",
       "        text-align: left;\n",
       "    }\n",
       "</style>\n",
       "<table border=\"1\" class=\"dataframe\">\n",
       "  <thead>\n",
       "    <tr>\n",
       "      <th></th>\n",
       "      <th></th>\n",
       "      <th colspan=\"3\" halign=\"left\">a</th>\n",
       "      <th colspan=\"2\" halign=\"left\">b</th>\n",
       "    </tr>\n",
       "    <tr>\n",
       "      <th></th>\n",
       "      <th></th>\n",
       "      <th>b</th>\n",
       "      <th>a</th>\n",
       "      <th>c</th>\n",
       "      <th>a</th>\n",
       "      <th>b</th>\n",
       "    </tr>\n",
       "  </thead>\n",
       "  <tbody>\n",
       "    <tr>\n",
       "      <th rowspan=\"3\" valign=\"top\">A</th>\n",
       "      <th>B</th>\n",
       "      <td>1.0</td>\n",
       "      <td>4.0</td>\n",
       "      <td>5.0</td>\n",
       "      <td>8.0</td>\n",
       "      <td>10.0</td>\n",
       "    </tr>\n",
       "    <tr>\n",
       "      <th>C</th>\n",
       "      <td>2.0</td>\n",
       "      <td>3.0</td>\n",
       "      <td>6.0</td>\n",
       "      <td>7.0</td>\n",
       "      <td>NaN</td>\n",
       "    </tr>\n",
       "    <tr>\n",
       "      <th>D</th>\n",
       "      <td>NaN</td>\n",
       "      <td>NaN</td>\n",
       "      <td>NaN</td>\n",
       "      <td>NaN</td>\n",
       "      <td>9.0</td>\n",
       "    </tr>\n",
       "  </tbody>\n",
       "</table>\n",
       "</div>"
      ],
      "text/plain": [
       "       a              b      \n",
       "       b    a    c    a     b\n",
       "A B  1.0  4.0  5.0  8.0  10.0\n",
       "  C  2.0  3.0  6.0  7.0   NaN\n",
       "  D  NaN  NaN  NaN  NaN   9.0"
      ]
     },
     "execution_count": 30,
     "metadata": {},
     "output_type": "execute_result"
    }
   ],
   "source": [
    "#From a dict of tuples\n",
    "pd.DataFrame(\n",
    "    {\n",
    "        (\"a\", \"b\"): {(\"A\", \"B\"): 1, (\"A\", \"C\"): 2},\n",
    "        (\"a\", \"a\"): {(\"A\", \"C\"): 3, (\"A\", \"B\"): 4},\n",
    "        (\"a\", \"c\"): {(\"A\", \"B\"): 5, (\"A\", \"C\"): 6},\n",
    "        (\"b\", \"a\"): {(\"A\", \"C\"): 7, (\"A\", \"B\"): 8},\n",
    "        (\"b\", \"b\"): {(\"A\", \"D\"): 9, (\"A\", \"B\"): 10},\n",
    "    }\n",
    ")"
   ]
  },
  {
   "cell_type": "code",
   "execution_count": null,
   "metadata": {},
   "outputs": [],
   "source": [
    "#From a Series"
   ]
  }
 ],
 "metadata": {
  "kernelspec": {
   "display_name": "Python 3",
   "language": "python",
   "name": "python3"
  },
  "language_info": {
   "codemirror_mode": {
    "name": "ipython",
    "version": 3
   },
   "file_extension": ".py",
   "mimetype": "text/x-python",
   "name": "python",
   "nbconvert_exporter": "python",
   "pygments_lexer": "ipython3",
   "version": "3.11.9"
  }
 },
 "nbformat": 4,
 "nbformat_minor": 2
}
