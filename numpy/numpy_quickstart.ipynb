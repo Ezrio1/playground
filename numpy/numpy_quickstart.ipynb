{
 "cells": [
  {
   "cell_type": "markdown",
   "metadata": {},
   "source": [
    "# Creating a array"
   ]
  },
  {
   "cell_type": "code",
   "execution_count": 1,
   "metadata": {},
   "outputs": [
    {
     "name": "stdout",
     "output_type": "stream",
     "text": [
      "a1 -> [2 3 4]\n",
      "a2 -> [[2 3 4]\n",
      " [5 6 8]]\n",
      "a3 -> [[2.+0.j 3.+0.j 4.+0.j]\n",
      " [5.+0.j 6.+0.j 7.+0.j]]\n",
      "a4 -> [[0. 0.]\n",
      " [0. 0.]]\n",
      "a5 -> [[[1. 1.]\n",
      "  [1. 1.]]\n",
      "\n",
      " [[1. 1.]\n",
      "  [1. 1.]]]\n",
      "a6 -> [[0. 0. 0. 0.]]\n",
      "a7 -> [ 0  8 16 24 32 40 48 56 64 72 80 88 96]\n",
      "a8 -> [0.   0.25 0.5  0.75 1.   1.25 1.5  1.75 2.  ]\n"
     ]
    },
    {
     "data": {
      "text/plain": [
       "array([ 0.00000000e+00,  6.34239197e-02,  1.26592454e-01,  1.89251244e-01,\n",
       "        2.51147987e-01,  3.12033446e-01,  3.71662456e-01,  4.29794912e-01,\n",
       "        4.86196736e-01,  5.40640817e-01,  5.92907929e-01,  6.42787610e-01,\n",
       "        6.90079011e-01,  7.34591709e-01,  7.76146464e-01,  8.14575952e-01,\n",
       "        8.49725430e-01,  8.81453363e-01,  9.09631995e-01,  9.34147860e-01,\n",
       "        9.54902241e-01,  9.71811568e-01,  9.84807753e-01,  9.93838464e-01,\n",
       "        9.98867339e-01,  9.99874128e-01,  9.96854776e-01,  9.89821442e-01,\n",
       "        9.78802446e-01,  9.63842159e-01,  9.45000819e-01,  9.22354294e-01,\n",
       "        8.95993774e-01,  8.66025404e-01,  8.32569855e-01,  7.95761841e-01,\n",
       "        7.55749574e-01,  7.12694171e-01,  6.66769001e-01,  6.18158986e-01,\n",
       "        5.67059864e-01,  5.13677392e-01,  4.58226522e-01,  4.00930535e-01,\n",
       "        3.42020143e-01,  2.81732557e-01,  2.20310533e-01,  1.58001396e-01,\n",
       "        9.50560433e-02,  3.17279335e-02, -3.17279335e-02, -9.50560433e-02,\n",
       "       -1.58001396e-01, -2.20310533e-01, -2.81732557e-01, -3.42020143e-01,\n",
       "       -4.00930535e-01, -4.58226522e-01, -5.13677392e-01, -5.67059864e-01,\n",
       "       -6.18158986e-01, -6.66769001e-01, -7.12694171e-01, -7.55749574e-01,\n",
       "       -7.95761841e-01, -8.32569855e-01, -8.66025404e-01, -8.95993774e-01,\n",
       "       -9.22354294e-01, -9.45000819e-01, -9.63842159e-01, -9.78802446e-01,\n",
       "       -9.89821442e-01, -9.96854776e-01, -9.99874128e-01, -9.98867339e-01,\n",
       "       -9.93838464e-01, -9.84807753e-01, -9.71811568e-01, -9.54902241e-01,\n",
       "       -9.34147860e-01, -9.09631995e-01, -8.81453363e-01, -8.49725430e-01,\n",
       "       -8.14575952e-01, -7.76146464e-01, -7.34591709e-01, -6.90079011e-01,\n",
       "       -6.42787610e-01, -5.92907929e-01, -5.40640817e-01, -4.86196736e-01,\n",
       "       -4.29794912e-01, -3.71662456e-01, -3.12033446e-01, -2.51147987e-01,\n",
       "       -1.89251244e-01, -1.26592454e-01, -6.34239197e-02, -2.44929360e-16])"
      ]
     },
     "execution_count": 1,
     "metadata": {},
     "output_type": "execute_result"
    }
   ],
   "source": [
    "import numpy as np\n",
    "import matplotlib.pyplot as plt \n",
    "a1 = np.array([2,3,4])\n",
    "print(f\"a1 -> {a1}\")\n",
    "a2 = np.array([(2,3,4),(5,6,8)])\n",
    "print(f\"a2 -> {a2}\")\n",
    "a3 = np.array([(2,3,4),(5,6,7)], dtype=complex)\n",
    "print(f\"a3 -> {a3}\")\n",
    "a4 = np.zeros((2,2))\n",
    "print(f\"a4 -> {a4}\")\n",
    "a5 = np.ones((2,2,2))\n",
    "print(f\"a5 -> {a5}\")\n",
    "a6 = np.empty((1,4))\n",
    "print(f\"a6 -> {a6}\")\n",
    "a7 = np.arange(0,100,8)\n",
    "print(f\"a7 -> {a7}\")\n",
    "#When we creating array with arange and float type its\n",
    "#hard to know how many elements will occur. Thus we have\n",
    "# linspace function\n",
    "a8 = np.linspace(0,2,9)\n",
    "print(f\"a8 -> {a8}\")\n",
    "\n",
    "from numpy import pi\n",
    "x = np.linspace(0, 2*pi,100)\n",
    "f = np.sin(x)\n",
    "f"
   ]
  },
  {
   "cell_type": "markdown",
   "metadata": {},
   "source": [
    "# Printing Arrays"
   ]
  },
  {
   "cell_type": "code",
   "execution_count": 2,
   "metadata": {},
   "outputs": [
    {
     "name": "stdout",
     "output_type": "stream",
     "text": [
      "[[ 0  1  2]\n",
      " [ 3  4  5]\n",
      " [ 6  7  8]\n",
      " [ 9 10 11]]\n",
      "[[   0    1    2 ...   97   98   99]\n",
      " [ 100  101  102 ...  197  198  199]\n",
      " [ 200  201  202 ...  297  298  299]\n",
      " ...\n",
      " [9700 9701 9702 ... 9797 9798 9799]\n",
      " [9800 9801 9802 ... 9897 9898 9899]\n",
      " [9900 9901 9902 ... 9997 9998 9999]]\n"
     ]
    }
   ],
   "source": [
    "p1 = np.arange(12).reshape(4,3)\n",
    "print(p1)\n",
    "p2 = np.arange(10000).reshape(100,100)\n",
    "print(p2)"
   ]
  },
  {
   "cell_type": "markdown",
   "metadata": {},
   "source": [
    "# Basic Operations"
   ]
  },
  {
   "cell_type": "code",
   "execution_count": null,
   "metadata": {},
   "outputs": [
    {
     "name": "stdout",
     "output_type": "stream",
     "text": [
      "[-20 -29 -38 -47]\n",
      "[0 1 4 9]\n",
      "[ 9.12945251 -9.88031624  7.4511316  -2.62374854]\n",
      "elementwise product:\n",
      "[[2 0]\n",
      " [0 4]]\n",
      "matrix product:\n",
      "[[5 4]\n",
      " [3 4]]\n",
      "another way to matrix product:\n",
      "[[5 4]\n",
      " [3 4]]\n"
     ]
    }
   ],
   "source": [
    "b1 = np.array([20,30,40,50])\n",
    "b2 = np.arange(4)\n",
    "b3 = b2 - b1\n",
    "print(b3)\n",
    "print(b2**2)\n",
    "print(10 * np.sin(b1))\n",
    "# product operator is *\n",
    "# dot product is @ or dot function b1.dot(b2)\n",
    "# dont mix with the linear algebra topic dot product!\n",
    "b4 = np.array([[1,1],[0,1]])\n",
    "b5 = np.array([[2,0],[3,4]])\n",
    "print(f\"elementwise product:\\n{b4*b5}\")\n",
    "print(f\"matrix product:\\n{b4@b5}\")\n",
    "print(f\"another way to matrix product:\\n{b4.dot(b5)}\")"
   ]
  },
  {
   "cell_type": "code",
   "execution_count": 10,
   "metadata": {},
   "outputs": [
    {
     "name": "stdout",
     "output_type": "stream",
     "text": [
      "float64\n",
      "[1.         2.57079633 4.14159265]\n",
      "float64\n"
     ]
    }
   ],
   "source": [
    "# When operating with arrays of different types, \n",
    "# the type of the resulting array corresponds to\n",
    "# the more general or precise one (a behavior known \n",
    "# as upcasting).\n",
    "b1 = np.ones(3, dtype=np.int32)\n",
    "b2 = np.linspace(0,pi,3)\n",
    "print(b2.dtype.name)\n",
    "b3 = b1 + b2\n",
    "print(b3)\n",
    "print(b3.dtype.name)"
   ]
  },
  {
   "cell_type": "code",
   "execution_count": 26,
   "metadata": {},
   "outputs": [
    {
     "name": "stdout",
     "output_type": "stream",
     "text": [
      "[ 1.  2.  3.  4.  5.  6.  7.  8.  9. 10.]\n",
      "55.0\n",
      "1.0\n",
      "10.0\n",
      "-----------------------------\n",
      "[[ 0  1  2  3]\n",
      " [ 4  5  6  7]\n",
      " [ 8  9 10 11]]\n",
      "[ 6 22 38]\n",
      "[0 1 2 3]\n",
      "11\n",
      "[[ 0  1  3  6]\n",
      " [ 4  9 15 22]\n",
      " [ 8 17 27 38]]\n"
     ]
    }
   ],
   "source": [
    "b1 = np.linspace(1,10,10)\n",
    "print(b1)\n",
    "print(b1.sum())\n",
    "print(b1.min())\n",
    "print(b1.max())\n",
    "print(\"-----------------------------\")\n",
    "# if matrix is multidimensional we can apply \n",
    "# operations tı specified axis :\n",
    "b2 = np.arange(12).reshape(3,4)\n",
    "print(b2)\n",
    "# axis = 1 is row , axis = 0 is column  \n",
    "print(b2.sum(axis=1))\n",
    "print(b2.min(axis=0))\n",
    "print(b2.max())\n",
    "print(b2.cumsum(axis=1))\n"
   ]
  },
  {
   "cell_type": "markdown",
   "metadata": {},
   "source": [
    "# Universal Functions"
   ]
  },
  {
   "cell_type": "code",
   "execution_count": 27,
   "metadata": {},
   "outputs": [
    {
     "name": "stdout",
     "output_type": "stream",
     "text": [
      "[1.         2.71828183 7.3890561 ]\n",
      "[0.         1.         1.41421356]\n",
      "[ 2. -3.  9.]\n"
     ]
    }
   ],
   "source": [
    "# Math functions such as sin,cos etc. called \n",
    "# \"universal functions\"(ufunc) in numpy.\n",
    "# outputs are array\n",
    "u1 = np.arange(3)\n",
    "print(np.exp(u1))\n",
    "print(np.sqrt(u1))\n",
    "u2 = np.array([2., -4., 7])\n",
    "print(np.add(u1,u2))"
   ]
  },
  {
   "cell_type": "markdown",
   "metadata": {},
   "source": [
    "# Indexing, slicing and iterating"
   ]
  },
  {
   "cell_type": "code",
   "execution_count": null,
   "metadata": {},
   "outputs": [
    {
     "name": "stdout",
     "output_type": "stream",
     "text": [
      "[ 0  1  4  9 16 25 36 49 64 81]\n",
      "[ 4  9 16]\n",
      "[-5  1 -5  9 -5 25 36 49 64 81]\n",
      "reserved =>[81 64 49 36 25 -5  9 -5  1 -5]\n"
     ]
    }
   ],
   "source": [
    "s = np.arange(10) ** 2\n",
    "print(s)\n",
    "# indexing starts from 0 thus i[2] is third element\n",
    "print(s[2:5]) # not include i[5] just 2,3,4\n",
    "s[:6:2] = -5 # 0 to 6 take two step and set -5\n",
    "print(s)\n",
    "print(f\"reserved =>{s[::-1]}\")"
   ]
  },
  {
   "cell_type": "code",
   "execution_count": 46,
   "metadata": {},
   "outputs": [
    {
     "name": "stdout",
     "output_type": "stream",
     "text": [
      "[[ 0  1  2  3]\n",
      " [10 11 12 13]\n",
      " [20 21 22 23]\n",
      " [30 31 32 33]\n",
      " [40 41 42 43]]\n",
      "[ 1 11 21 31 41]\n",
      "[ 3 13 23 33 43]\n",
      "[[10 11 12 13]\n",
      " [20 21 22 23]]\n",
      "[30 31 32 33]\n"
     ]
    }
   ],
   "source": [
    "def f(x,y):\n",
    "    return 10*x + y # x = i and y = j \n",
    "\n",
    "s1 = np.fromfunction(f,(5,4),dtype=int)\n",
    "print(s1)\n",
    "print(s1[0:5, 1])\n",
    "print(s1[:, 3]) \n",
    "print(s1[1:3, :])\n",
    "\n",
    "# When fewer indices are provided than the number of\n",
    "# axes missing indices are considered complete slices\n",
    "# [-1] = [-1, :]\n",
    "\n",
    "print(s1[-2])\n"
   ]
  },
  {
   "cell_type": "code",
   "execution_count": null,
   "metadata": {},
   "outputs": [
    {
     "name": "stdout",
     "output_type": "stream",
     "text": [
      "[[[ 0  1  2]\n",
      "  [ 3  4  5]]\n",
      "\n",
      " [[ 6  7  8]\n",
      "  [ 9 10 11]]]\n",
      "------------------\n",
      "[[ 6  7  8]\n",
      " [ 9 10 11]]\n",
      "------------------\n",
      "[[ 2  5]\n",
      " [ 8 11]]\n"
     ]
    }
   ],
   "source": [
    "# ... expression\n",
    "s3 = np.arange(12).reshape(2,2,3)\n",
    "print(s3)\n",
    "print(\"------------------\")\n",
    "print(s3[1,...]) # same as s3[1,:,:]\n",
    "print(\"------------------\")\n",
    "print(s3[...,2]) # same as s3[:,:,2]"
   ]
  },
  {
   "cell_type": "code",
   "execution_count": null,
   "metadata": {},
   "outputs": [],
   "source": []
  }
 ],
 "metadata": {
  "kernelspec": {
   "display_name": "Python 3",
   "language": "python",
   "name": "python3"
  },
  "language_info": {
   "codemirror_mode": {
    "name": "ipython",
    "version": 3
   },
   "file_extension": ".py",
   "mimetype": "text/x-python",
   "name": "python",
   "nbconvert_exporter": "python",
   "pygments_lexer": "ipython3",
   "version": "3.11.9"
  }
 },
 "nbformat": 4,
 "nbformat_minor": 2
}
